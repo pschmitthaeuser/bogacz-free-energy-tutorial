{
 "cells": [
  {
   "cell_type": "markdown",
   "id": "99389e04-d809-4d34-9b74-dbca27c17a21",
   "metadata": {},
   "source": [
    "# Exercise 2: Maximum a Posteriori Estimation With Gradient Ascent"
   ]
  },
  {
   "cell_type": "markdown",
   "id": "2fcd296b-692b-44a6-b668-e9129ab64480",
   "metadata": {},
   "source": [
    "Write a computer program finding the most likely size of the food item $\\phi$ for the situation described in Exercise 1. Since the denominator is not dependend on $\\phi$ our posterior is proportional to the numerator. We take the natural logarithm since it is monotonic function and so it will have the same maximum than our original function. The objective function to maximize is \n",
    "\n",
    "$$\n",
    "\\begin{align}\n",
    "    \\begin{aligned}\n",
    "        F &= \\ln p(\\phi) + \\ln p(u|\\phi) \\\\\n",
    "        F &= \\ln f(\\phi; v_p, \\Sigma_p) + \\ln f(u;g(\\phi),\\Sigma_u) \\\\\n",
    "        \\frac{\\partial{F}}{\\partial{\\phi}} &= \\frac{v_p-\\phi}{\\Sigma_p} + \\frac{u-g(\\phi)}{\\Sigma_u} g'(\\phi)\n",
    "    \\end{aligned}\n",
    "\\end{align}\n",
    "$$\n",
    "\n",
    "Initialize $\\phi=v_p$, and then find its values in the next 5 time units. Update the current current guess with\n",
    "$$\\phi(t + \\Delta t)=\\phi (t)+\\Delta t \\frac{\\partial{F}}{\\partial{\\phi}}$$ and $\\Delta t = 0.01$.\n"
   ]
  },
  {
   "cell_type": "code",
   "execution_count": 1,
   "id": "d55429e8-fb73-4c06-a8c6-edd3515210c3",
   "metadata": {},
   "outputs": [],
   "source": [
    "import numpy as np\n",
    "import scipy as sp\n",
    "import matplotlib.pyplot as plt\n",
    "import time"
   ]
  },
  {
   "cell_type": "markdown",
   "id": "c5f237c5-ba72-4d02-85ce-550eb3766ede",
   "metadata": {},
   "source": [
    "## Parameters"
   ]
  },
  {
   "cell_type": "code",
   "execution_count": 2,
   "id": "77618ec3-5897-49ec-90ea-80f04aea3237",
   "metadata": {},
   "outputs": [],
   "source": [
    "u = 2 # light intensity data point\n",
    "sigma_u = 1 # sigma likelihood\n",
    "v_p = 3 # mean of prior distribution\n",
    "sigma_p = 1 # sigma for prior\n"
   ]
  },
  {
   "cell_type": "markdown",
   "id": "d7fe8c1f-28d8-4a56-bef7-6a70c507f576",
   "metadata": {},
   "source": [
    "## Objective function"
   ]
  },
  {
   "cell_type": "code",
   "execution_count": 3,
   "id": "e2454821-c401-48a8-b04a-ab4e15f65e1a",
   "metadata": {},
   "outputs": [],
   "source": [
    "def objective(phi, u, v_p, sigma_p, sigma_u):\n",
    "    return (np.log(sp.stats.norm.pdf(phi, v_p, sigma_p)) + \n",
    "            np.log(sp.stats.norm.pdf(u, phi**2, sigma_u)))"
   ]
  },
  {
   "cell_type": "markdown",
   "id": "90f7e430-3da0-42e6-ac2b-33bc43fb34da",
   "metadata": {},
   "source": [
    "## Gradient function"
   ]
  },
  {
   "cell_type": "code",
   "execution_count": 4,
   "id": "95dae8e5-3cb5-4701-92cd-ea229d997508",
   "metadata": {},
   "outputs": [],
   "source": [
    "def gradient(phi, u, v_p, sigma_p, sigma_u):\n",
    "    return ((v_p - phi)/sigma_p) + (((u - phi**2)/sigma_u)*2*phi)\n",
    "    "
   ]
  },
  {
   "cell_type": "markdown",
   "id": "8c5e8017-b790-4d63-ac65-ada382e6af09",
   "metadata": {},
   "source": [
    "## Gradient ascent"
   ]
  },
  {
   "cell_type": "code",
   "execution_count": 5,
   "id": "f4d603a6-fda5-4502-9bb2-75c589f9bc89",
   "metadata": {},
   "outputs": [],
   "source": [
    "phi_init = v_p \n",
    "dt = 0.01\n",
    "tmax = 5\n",
    "t = 0\n",
    "phi_list = []\n",
    "t_list = []\n",
    "obj_list = []\n",
    "\n",
    "while t <= tmax:\n",
    "    if t == 0:\n",
    "        phi_current = phi_init\n",
    "        obj_current = objective(phi_init, u, v_p, sigma_p, sigma_u)\n",
    "    else:\n",
    "        phi_current = phi_current + dt*gradient(phi_current, u, v_p, sigma_p, sigma_u)\n",
    "        obj_current = objective(phi_current, u, v_p, sigma_p, sigma_u)\n",
    "\n",
    "    phi_list.append(phi_current)\n",
    "    t_list.append(t)\n",
    "    obj_list.append(obj_current)\n",
    "    t += dt\n"
   ]
  },
  {
   "cell_type": "markdown",
   "id": "419aa101-f6d8-4f0e-bd92-fd0ac71ad7fc",
   "metadata": {},
   "source": [
    "## Plot"
   ]
  },
  {
   "cell_type": "code",
   "execution_count": 6,
   "id": "1d1b0b00-345c-4065-8337-e32548718c91",
   "metadata": {},
   "outputs": [
    {
     "data": {
      "image/png": "[encoded data removed]",
      "text/plain": [
       "<Figure size 1000x500 with 2 Axes>"
      ]
     },
     "metadata": {},
     "output_type": "display_data"
    }
   ],
   "source": [
    "fig, axs = plt.subplots(nrows=1, ncols=2, figsize=(10, 5))\n",
    "\n",
    "for i, ax in enumerate(axs):\n",
    "    if i == 0:\n",
    "        ax.plot(t_list, phi_list, color = 'black', linewidth=0.5)\n",
    "        ax.set_xlim([0, 2])\n",
    "        ax.set_ylim([-1, 4])\n",
    "        ax.set_ylabel('phi')\n",
    "        ax.set_xlabel('t')\n",
    "    \n",
    "    else:\n",
    "        ax.plot(t_list, obj_list, color = 'black', linewidth=0.5)\n",
    "        ax.set_ylim([-10, 0])\n",
    "        ax.set_xlim([0, 2])\n",
    "        ax.set_ylabel('objective function')\n",
    "        ax.set_xlabel('t')\n"
   ]
  },
  {
   "cell_type": "markdown",
   "id": "b1fae995-6e69-4c63-ae54-a96c02fa7703",
   "metadata": {},
   "source": [
    "## The function converges to the MAP"
   ]
  },
  {
   "cell_type": "code",
   "execution_count": 7,
   "id": "92650abe-3a9d-433e-b43d-d7a529f82fc7",
   "metadata": {},
   "outputs": [
    {
     "data": {
      "text/plain": [
       "1.567468374852423"
      ]
     },
     "execution_count": 7,
     "metadata": {},
     "output_type": "execute_result"
    }
   ],
   "source": [
    "phi_list[-1]"
   ]
  }
 ],
 "metadata": {
  "kernelspec": {
   "display_name": "Python 3 (ipykernel)",
   "language": "python",
   "name": "python3"
  },
  "language_info": {
   "codemirror_mode": {
    "name": "ipython",
    "version": 3
   },
   "file_extension": ".py",
   "mimetype": "text/x-python",
   "name": "python",
   "nbconvert_exporter": "python",
   "pygments_lexer": "ipython3",
   "version": "3.12.3"
  }
 },
 "nbformat": 4,
 "nbformat_minor": 5
}
